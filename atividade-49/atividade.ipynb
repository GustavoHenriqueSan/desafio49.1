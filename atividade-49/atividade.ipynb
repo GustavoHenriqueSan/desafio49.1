{
 "cells": [
  {
   "cell_type": "code",
   "execution_count": 2,
   "metadata": {},
   "outputs": [
    {
     "name": "stdout",
     "output_type": "stream",
     "text": [
      "Vezes em que a vogal A apareceu: 37\n",
      "Vezes em que a vogal E apareceu: 51\n",
      "Vezes em que a vogal I apareceu: 13\n",
      "Vezes em que a vogal O apareceu: 36\n",
      "Vezes em que a vogal U apareceu: 18\n"
     ]
    }
   ],
   "source": [
    "def contar_vogais(texto):\n",
    "    vogais = \"aeiou\"\n",
    "    contagem = {vogal: texto.count(vogal) for vogal in vogais}\n",
    "    return contagem\n",
    "\n",
    "nome = \"texto.txt\"\n",
    "\n",
    "arq = open(nome, \"r\", encoding=\"utf-8\")\n",
    "conteudo = arq.read().lower()\n",
    "arq.close()\n",
    "\n",
    "contagem = contar_vogais(conteudo)\n",
    "\n",
    "for vogal, cont in contagem.items():\n",
    "    print(f\"Vezes em que a vogal {vogal.upper()} apareceu: {cont}\")\n"
   ]
  }
 ],
 "metadata": {
  "kernelspec": {
   "display_name": "Python 3",
   "language": "python",
   "name": "python3"
  },
  "language_info": {
   "codemirror_mode": {
    "name": "ipython",
    "version": 3
   },
   "file_extension": ".py",
   "mimetype": "text/x-python",
   "name": "python",
   "nbconvert_exporter": "python",
   "pygments_lexer": "ipython3",
   "version": "3.11.5"
  }
 },
 "nbformat": 4,
 "nbformat_minor": 2
}
